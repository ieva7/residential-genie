{
 "cells": [
  {
   "cell_type": "code",
   "execution_count": 49,
   "metadata": {},
   "outputs": [],
   "source": [
    "import pandas as pd\n",
    "\n",
    "AGE_DATA = \"data/TS007-2021-3.csv\"\n",
    "age_data = pd.read_csv(AGE_DATA)"
   ]
  },
  {
   "cell_type": "code",
   "execution_count": 50,
   "metadata": {},
   "outputs": [
    {
     "name": "stdout",
     "output_type": "stream",
     "text": [
      "               count\n",
      "local_name          \n",
      "Adur           64547\n",
      "Allerdale      96156\n",
      "Amber Valley  126205\n",
      "Arun          164896\n",
      "Ashfield      126305\n",
      "...              ...\n",
      "Wrexham       135115\n",
      "Wychavon      132495\n",
      "Wyre          111949\n",
      "Wyre Forest   101609\n",
      "York          202821\n",
      "\n",
      "[331 rows x 1 columns]\n"
     ]
    }
   ],
   "source": [
    "counts = age_data.groupby(by=[\"local_name\"]).sum().drop(labels=[\"local_code\", \"age_code\", \"age_name\"], axis='columns')\n",
    "print(counts)"
   ]
  },
  {
   "cell_type": "code",
   "execution_count": 51,
   "metadata": {},
   "outputs": [
    {
     "name": "stdout",
     "output_type": "stream",
     "text": [
      "                                                        local_code  age_code  \\\n",
      "local_name                                                                     \n",
      "Birmingham       E08000025E08000025E08000025E08000025E08000025E...       252   \n",
      "Leeds            E08000035E08000035E08000035E08000035E08000035E...       252   \n",
      "Manchester       E08000003E08000003E08000003E08000003E08000003E...       252   \n",
      "Wandsworth       E09000032E09000032E09000032E09000032E09000032E...       252   \n",
      "Bristol          E06000023E06000023E06000023E06000023E06000023E...       252   \n",
      "...                                                            ...       ...   \n",
      "Ryedale          E07000167E07000167E07000167E07000167E07000167E...       252   \n",
      "West Devon       E07000047E07000047E07000047E07000047E07000047E...       252   \n",
      "Rutland          E06000017E06000017E06000017E06000017E06000017E...       252   \n",
      "City of London   E09000001E09000001E09000001E09000001E09000001E...       252   \n",
      "Isles of Scilly  E06000053E06000053E06000053E06000053E06000053E...       252   \n",
      "\n",
      "                                                          age_name   count  \n",
      "local_name                                                                  \n",
      "Birmingham       Aged 24 yearsAged 25 yearsAged 26 yearsAged 27...  150659  \n",
      "Leeds            Aged 24 yearsAged 25 yearsAged 26 yearsAged 27...  109663  \n",
      "Manchester       Aged 24 yearsAged 25 yearsAged 26 yearsAged 27...   93460  \n",
      "Wandsworth       Aged 24 yearsAged 25 yearsAged 26 yearsAged 27...   80180  \n",
      "Bristol          Aged 24 yearsAged 25 yearsAged 26 yearsAged 27...   79760  \n",
      "...                                                            ...     ...  \n",
      "Ryedale          Aged 24 yearsAged 25 yearsAged 26 yearsAged 27...    4700  \n",
      "West Devon       Aged 24 yearsAged 25 yearsAged 26 yearsAged 27...    4499  \n",
      "Rutland          Aged 24 yearsAged 25 yearsAged 26 yearsAged 27...    3914  \n",
      "City of London   Aged 24 yearsAged 25 yearsAged 26 yearsAged 27...    2089  \n",
      "Isles of Scilly  Aged 24 yearsAged 25 yearsAged 26 yearsAged 27...     193  \n",
      "\n",
      "[331 rows x 4 columns]\n"
     ]
    }
   ],
   "source": [
    "\n",
    "new_df = age_data[(age_data[\"age_code\"] >= 24) & (age_data[\"age_code\"] <= 32)].groupby(by=[\"local_name\"]).sum()\n",
    "print(new_df.sort_values(by=[\"count\"], ascending=False))\n"
   ]
  },
  {
   "cell_type": "code",
   "execution_count": 52,
   "metadata": {},
   "outputs": [
    {
     "name": "stdout",
     "output_type": "stream",
     "text": [
      "                                                     local_code  age_code  \\\n",
      "local_name                                                                  \n",
      "Adur          E07000223E07000223E07000223E07000223E07000223E...       252   \n",
      "Allerdale     E07000026E07000026E07000026E07000026E07000026E...       252   \n",
      "Amber Valley  E07000032E07000032E07000032E07000032E07000032E...       252   \n",
      "Arun          E07000224E07000224E07000224E07000224E07000224E...       252   \n",
      "Ashfield      E07000170E07000170E07000170E07000170E07000170E...       252   \n",
      "...                                                         ...       ...   \n",
      "Wrexham       W06000006W06000006W06000006W06000006W06000006W...       252   \n",
      "Wychavon      E07000238E07000238E07000238E07000238E07000238E...       252   \n",
      "Wyre          E07000128E07000128E07000128E07000128E07000128E...       252   \n",
      "Wyre Forest   E07000239E07000239E07000239E07000239E07000239E...       252   \n",
      "York          E06000014E06000014E06000014E06000014E06000014E...       252   \n",
      "\n",
      "                                                       age_name  count_x  \\\n",
      "local_name                                                                 \n",
      "Adur          Aged 24 yearsAged 25 yearsAged 26 yearsAged 27...     5844   \n",
      "Allerdale     Aged 24 yearsAged 25 yearsAged 26 yearsAged 27...     9331   \n",
      "Amber Valley  Aged 24 yearsAged 25 yearsAged 26 yearsAged 27...    13147   \n",
      "Arun          Aged 24 yearsAged 25 yearsAged 26 yearsAged 27...    15676   \n",
      "Ashfield      Aged 24 yearsAged 25 yearsAged 26 yearsAged 27...    14572   \n",
      "...                                                         ...      ...   \n",
      "Wrexham       Aged 24 yearsAged 25 yearsAged 26 yearsAged 27...    14678   \n",
      "Wychavon      Aged 24 yearsAged 25 yearsAged 26 yearsAged 27...    12620   \n",
      "Wyre          Aged 24 yearsAged 25 yearsAged 26 yearsAged 27...    10059   \n",
      "Wyre Forest   Aged 24 yearsAged 25 yearsAged 26 yearsAged 27...    10006   \n",
      "York          Aged 24 yearsAged 25 yearsAged 26 yearsAged 27...    23587   \n",
      "\n",
      "              count_y  \n",
      "local_name             \n",
      "Adur            64547  \n",
      "Allerdale       96156  \n",
      "Amber Valley   126205  \n",
      "Arun           164896  \n",
      "Ashfield       126305  \n",
      "...               ...  \n",
      "Wrexham        135115  \n",
      "Wychavon       132495  \n",
      "Wyre           111949  \n",
      "Wyre Forest    101609  \n",
      "York           202821  \n",
      "\n",
      "[331 rows x 5 columns]\n"
     ]
    }
   ],
   "source": [
    "new_df = new_df.merge(counts, left_on=[\"local_name\"], right_on=[\"local_name\"])\n",
    "print(new_df)"
   ]
  },
  {
   "cell_type": "code",
   "execution_count": 54,
   "metadata": {},
   "outputs": [
    {
     "name": "stdout",
     "output_type": "stream",
     "text": [
      "                   count_x\n",
      "local_name                \n",
      "Tower Hamlets     0.253449\n",
      "Wandsworth        0.244820\n",
      "City of London    0.243502\n",
      "Lambeth           0.243315\n",
      "Islington         0.233915\n",
      "...                    ...\n",
      "West Devon        0.078801\n",
      "South Hams        0.078700\n",
      "Rother            0.077628\n",
      "North Norfolk     0.077019\n",
      "Derbyshire Dales  0.076409\n",
      "\n",
      "[331 rows x 1 columns]\n"
     ]
    }
   ],
   "source": [
    "percentages_of_population = new_df[[\"count_x\"]].div(new_df[\"count_y\"].values, axis=0)\n",
    "print(percentages_of_population.sort_values(by=[\"count_x\"], ascending=False)) # woooo success"
   ]
  }
 ],
 "metadata": {
  "kernelspec": {
   "display_name": "venv",
   "language": "python",
   "name": "python3"
  },
  "language_info": {
   "codemirror_mode": {
    "name": "ipython",
    "version": 3
   },
   "file_extension": ".py",
   "mimetype": "text/x-python",
   "name": "python",
   "nbconvert_exporter": "python",
   "pygments_lexer": "ipython3",
   "version": "3.12.4"
  }
 },
 "nbformat": 4,
 "nbformat_minor": 2
}
